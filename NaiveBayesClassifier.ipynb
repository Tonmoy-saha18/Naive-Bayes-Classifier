{
  "nbformat": 4,
  "nbformat_minor": 0,
  "metadata": {
    "colab": {
      "name": "NaiveBayesClassifier.ipynb",
      "provenance": []
    },
    "kernelspec": {
      "name": "python3",
      "display_name": "Python 3"
    },
    "language_info": {
      "name": "python"
    }
  },
  "cells": [
    {
      "cell_type": "markdown",
      "metadata": {
        "id": "fefNE2A_rnO_"
      },
      "source": [
        "# **With Stratify**"
      ]
    },
    {
      "cell_type": "code",
      "metadata": {
        "id": "B6Vei8N3iC3h",
        "colab": {
          "base_uri": "https://localhost:8080/",
          "height": 532
        },
        "outputId": "c8a75ff5-ac84-46f2-d33c-316262198e68"
      },
      "source": [
        "import pandas as pd\n",
        "import numpy as np\n",
        "telco = pd.read_csv(\"WA_Fn-UseC_-Telco-Customer-Churn.csv\", na_values=\"?\")\n",
        "telco.dropna(inplace=True)\n",
        "telco.reset_index(drop=True)\n",
        "telco.drop(labels=[\"customerID\",\"tenure\",\"MonthlyCharges\",\"TotalCharges\" ], axis=1, inplace=True)\n",
        "telco = telco.replace({\n",
        "    \"Churn\":{\n",
        "        \"No\":0,\n",
        "        \"Yes\":1\n",
        "    }\n",
        "})\n",
        "data_x = telco.loc[:, telco.columns != \"Churn\"]\n",
        "data_y = telco.loc[:, \"Churn\"]\n",
        "\n",
        "telco.head(10)"
      ],
      "execution_count": null,
      "outputs": [
        {
          "output_type": "execute_result",
          "data": {
            "text/html": [
              "<div>\n",
              "<style scoped>\n",
              "    .dataframe tbody tr th:only-of-type {\n",
              "        vertical-align: middle;\n",
              "    }\n",
              "\n",
              "    .dataframe tbody tr th {\n",
              "        vertical-align: top;\n",
              "    }\n",
              "\n",
              "    .dataframe thead th {\n",
              "        text-align: right;\n",
              "    }\n",
              "</style>\n",
              "<table border=\"1\" class=\"dataframe\">\n",
              "  <thead>\n",
              "    <tr style=\"text-align: right;\">\n",
              "      <th></th>\n",
              "      <th>gender</th>\n",
              "      <th>SeniorCitizen</th>\n",
              "      <th>Partner</th>\n",
              "      <th>Dependents</th>\n",
              "      <th>PhoneService</th>\n",
              "      <th>MultipleLines</th>\n",
              "      <th>InternetService</th>\n",
              "      <th>OnlineSecurity</th>\n",
              "      <th>OnlineBackup</th>\n",
              "      <th>DeviceProtection</th>\n",
              "      <th>TechSupport</th>\n",
              "      <th>StreamingTV</th>\n",
              "      <th>StreamingMovies</th>\n",
              "      <th>Contract</th>\n",
              "      <th>PaperlessBilling</th>\n",
              "      <th>PaymentMethod</th>\n",
              "      <th>Churn</th>\n",
              "    </tr>\n",
              "  </thead>\n",
              "  <tbody>\n",
              "    <tr>\n",
              "      <th>0</th>\n",
              "      <td>Female</td>\n",
              "      <td>0</td>\n",
              "      <td>Yes</td>\n",
              "      <td>No</td>\n",
              "      <td>No</td>\n",
              "      <td>No phone service</td>\n",
              "      <td>DSL</td>\n",
              "      <td>No</td>\n",
              "      <td>Yes</td>\n",
              "      <td>No</td>\n",
              "      <td>No</td>\n",
              "      <td>No</td>\n",
              "      <td>No</td>\n",
              "      <td>Month-to-month</td>\n",
              "      <td>Yes</td>\n",
              "      <td>Electronic check</td>\n",
              "      <td>0</td>\n",
              "    </tr>\n",
              "    <tr>\n",
              "      <th>1</th>\n",
              "      <td>Male</td>\n",
              "      <td>0</td>\n",
              "      <td>No</td>\n",
              "      <td>No</td>\n",
              "      <td>Yes</td>\n",
              "      <td>No</td>\n",
              "      <td>DSL</td>\n",
              "      <td>Yes</td>\n",
              "      <td>No</td>\n",
              "      <td>Yes</td>\n",
              "      <td>No</td>\n",
              "      <td>No</td>\n",
              "      <td>No</td>\n",
              "      <td>One year</td>\n",
              "      <td>No</td>\n",
              "      <td>Mailed check</td>\n",
              "      <td>0</td>\n",
              "    </tr>\n",
              "    <tr>\n",
              "      <th>2</th>\n",
              "      <td>Male</td>\n",
              "      <td>0</td>\n",
              "      <td>No</td>\n",
              "      <td>No</td>\n",
              "      <td>Yes</td>\n",
              "      <td>No</td>\n",
              "      <td>DSL</td>\n",
              "      <td>Yes</td>\n",
              "      <td>Yes</td>\n",
              "      <td>No</td>\n",
              "      <td>No</td>\n",
              "      <td>No</td>\n",
              "      <td>No</td>\n",
              "      <td>Month-to-month</td>\n",
              "      <td>Yes</td>\n",
              "      <td>Mailed check</td>\n",
              "      <td>1</td>\n",
              "    </tr>\n",
              "    <tr>\n",
              "      <th>3</th>\n",
              "      <td>Male</td>\n",
              "      <td>0</td>\n",
              "      <td>No</td>\n",
              "      <td>No</td>\n",
              "      <td>No</td>\n",
              "      <td>No phone service</td>\n",
              "      <td>DSL</td>\n",
              "      <td>Yes</td>\n",
              "      <td>No</td>\n",
              "      <td>Yes</td>\n",
              "      <td>Yes</td>\n",
              "      <td>No</td>\n",
              "      <td>No</td>\n",
              "      <td>One year</td>\n",
              "      <td>No</td>\n",
              "      <td>Bank transfer (automatic)</td>\n",
              "      <td>0</td>\n",
              "    </tr>\n",
              "    <tr>\n",
              "      <th>4</th>\n",
              "      <td>Female</td>\n",
              "      <td>0</td>\n",
              "      <td>No</td>\n",
              "      <td>No</td>\n",
              "      <td>Yes</td>\n",
              "      <td>No</td>\n",
              "      <td>Fiber optic</td>\n",
              "      <td>No</td>\n",
              "      <td>No</td>\n",
              "      <td>No</td>\n",
              "      <td>No</td>\n",
              "      <td>No</td>\n",
              "      <td>No</td>\n",
              "      <td>Month-to-month</td>\n",
              "      <td>Yes</td>\n",
              "      <td>Electronic check</td>\n",
              "      <td>1</td>\n",
              "    </tr>\n",
              "    <tr>\n",
              "      <th>5</th>\n",
              "      <td>Female</td>\n",
              "      <td>0</td>\n",
              "      <td>No</td>\n",
              "      <td>No</td>\n",
              "      <td>Yes</td>\n",
              "      <td>Yes</td>\n",
              "      <td>Fiber optic</td>\n",
              "      <td>No</td>\n",
              "      <td>No</td>\n",
              "      <td>Yes</td>\n",
              "      <td>No</td>\n",
              "      <td>Yes</td>\n",
              "      <td>Yes</td>\n",
              "      <td>Month-to-month</td>\n",
              "      <td>Yes</td>\n",
              "      <td>Electronic check</td>\n",
              "      <td>1</td>\n",
              "    </tr>\n",
              "    <tr>\n",
              "      <th>6</th>\n",
              "      <td>Male</td>\n",
              "      <td>0</td>\n",
              "      <td>No</td>\n",
              "      <td>Yes</td>\n",
              "      <td>Yes</td>\n",
              "      <td>Yes</td>\n",
              "      <td>Fiber optic</td>\n",
              "      <td>No</td>\n",
              "      <td>Yes</td>\n",
              "      <td>No</td>\n",
              "      <td>No</td>\n",
              "      <td>Yes</td>\n",
              "      <td>No</td>\n",
              "      <td>Month-to-month</td>\n",
              "      <td>Yes</td>\n",
              "      <td>Credit card (automatic)</td>\n",
              "      <td>0</td>\n",
              "    </tr>\n",
              "    <tr>\n",
              "      <th>7</th>\n",
              "      <td>Female</td>\n",
              "      <td>0</td>\n",
              "      <td>No</td>\n",
              "      <td>No</td>\n",
              "      <td>No</td>\n",
              "      <td>No phone service</td>\n",
              "      <td>DSL</td>\n",
              "      <td>Yes</td>\n",
              "      <td>No</td>\n",
              "      <td>No</td>\n",
              "      <td>No</td>\n",
              "      <td>No</td>\n",
              "      <td>No</td>\n",
              "      <td>Month-to-month</td>\n",
              "      <td>No</td>\n",
              "      <td>Mailed check</td>\n",
              "      <td>0</td>\n",
              "    </tr>\n",
              "    <tr>\n",
              "      <th>8</th>\n",
              "      <td>Female</td>\n",
              "      <td>0</td>\n",
              "      <td>Yes</td>\n",
              "      <td>No</td>\n",
              "      <td>Yes</td>\n",
              "      <td>Yes</td>\n",
              "      <td>Fiber optic</td>\n",
              "      <td>No</td>\n",
              "      <td>No</td>\n",
              "      <td>Yes</td>\n",
              "      <td>Yes</td>\n",
              "      <td>Yes</td>\n",
              "      <td>Yes</td>\n",
              "      <td>Month-to-month</td>\n",
              "      <td>Yes</td>\n",
              "      <td>Electronic check</td>\n",
              "      <td>1</td>\n",
              "    </tr>\n",
              "    <tr>\n",
              "      <th>9</th>\n",
              "      <td>Male</td>\n",
              "      <td>0</td>\n",
              "      <td>No</td>\n",
              "      <td>Yes</td>\n",
              "      <td>Yes</td>\n",
              "      <td>No</td>\n",
              "      <td>DSL</td>\n",
              "      <td>Yes</td>\n",
              "      <td>Yes</td>\n",
              "      <td>No</td>\n",
              "      <td>No</td>\n",
              "      <td>No</td>\n",
              "      <td>No</td>\n",
              "      <td>One year</td>\n",
              "      <td>No</td>\n",
              "      <td>Bank transfer (automatic)</td>\n",
              "      <td>0</td>\n",
              "    </tr>\n",
              "  </tbody>\n",
              "</table>\n",
              "</div>"
            ],
            "text/plain": [
              "   gender  SeniorCitizen  ...              PaymentMethod Churn\n",
              "0  Female              0  ...           Electronic check     0\n",
              "1    Male              0  ...               Mailed check     0\n",
              "2    Male              0  ...               Mailed check     1\n",
              "3    Male              0  ...  Bank transfer (automatic)     0\n",
              "4  Female              0  ...           Electronic check     1\n",
              "5  Female              0  ...           Electronic check     1\n",
              "6    Male              0  ...    Credit card (automatic)     0\n",
              "7  Female              0  ...               Mailed check     0\n",
              "8  Female              0  ...           Electronic check     1\n",
              "9    Male              0  ...  Bank transfer (automatic)     0\n",
              "\n",
              "[10 rows x 17 columns]"
            ]
          },
          "metadata": {},
          "execution_count": 2
        }
      ]
    },
    {
      "cell_type": "markdown",
      "metadata": {
        "id": "qXRVU08siuG8"
      },
      "source": [
        "**In this part we have split the dataset and create train dataset and test dataset**"
      ]
    },
    {
      "cell_type": "code",
      "metadata": {
        "id": "zHjwR4Jf9Npz"
      },
      "source": [
        "from sklearn.model_selection import train_test_split\n",
        "train_x, test_x, train_y, test_y = train_test_split(data_x, data_y, train_size=0.8, stratify=data_y, random_state=911)\n",
        "train_y = list(train_y)\n",
        "P_0 = train_y.count(0)/len(train_y)\n",
        "P_1 = train_y.count(1)/len(train_y)"
      ],
      "execution_count": null,
      "outputs": []
    },
    {
      "cell_type": "markdown",
      "metadata": {
        "id": "L8-XAEikimjz"
      },
      "source": [
        "**In this part we have created the likelihood table and store those information in a dictionary**"
      ]
    },
    {
      "cell_type": "code",
      "metadata": {
        "id": "uyD6C8drFhh2",
        "colab": {
          "base_uri": "https://localhost:8080/"
        },
        "outputId": "3ed588ee-f4f6-49d5-c1e4-4d668a24ba97"
      },
      "source": [
        "probability = {}\n",
        "\n",
        "def fit(feature , label):\n",
        "  unique_value = train_x[feature].unique()\n",
        "  merge = list(zip(train_x[feature], label))\n",
        "  if(feature not in probability):\n",
        "    probability[feature] = {}\n",
        "  # print(probability)\n",
        "  for a in unique_value:\n",
        "    t1 = (a, 0)\n",
        "    t2 = (a, 1)\n",
        "    value_0 = calculate_probability(t1, merge)\n",
        "    value_1 = calculate_probability(t2, merge)\n",
        "    if a not in probability[feature]:\n",
        "      probability[feature][a] = {}\n",
        "      probability[feature][a]['0'] = value_0\n",
        "      probability[feature][a]['1'] = value_1\n",
        "    # print(value_0)\n",
        "    # print(value_1)\n",
        "\n",
        "def calculate_probability(t1, merge):\n",
        "  p_xy = merge.count(t1)\n",
        "  probability = p_xy/train_y.count(t1[1])\n",
        "  return probability\n",
        "\n",
        "for a in train_x:\n",
        "  fit(a, train_y)\n",
        "print(probability)"
      ],
      "execution_count": null,
      "outputs": [
        {
          "output_type": "stream",
          "name": "stdout",
          "text": [
            "{'gender': {'Female': {'0': 0.4996375936216477, '1': 0.4983277591973244}, 'Male': {'0': 0.5003624063783523, '1': 0.5016722408026756}}, 'SeniorCitizen': {1: {'0': 0.1253926069098816, '1': 0.2568561872909699}, 0: {'0': 0.8746073930901184, '1': 0.7431438127090301}}, 'Partner': {'Yes': {'0': 0.5257308528630104, '1': 0.35451505016722407}, 'No': {'0': 0.4742691471369896, '1': 0.6454849498327759}}, 'Dependents': {'No': {'0': 0.6569219618265282, '1': 0.831438127090301}, 'Yes': {'0': 0.3430780381734719, '1': 0.16856187290969898}}, 'PhoneService': {'Yes': {'0': 0.9021502778448901, '1': 0.9036789297658863}, 'No': {'0': 0.09784972215510992, '1': 0.09632107023411371}}, 'MultipleLines': {'Yes': {'0': 0.40589514375453006, '1': 0.45953177257525085}, 'No': {'0': 0.49625513409036, '1': 0.44414715719063547}, 'No phone service': {'0': 0.09784972215510992, '1': 0.09632107023411371}}, 'InternetService': {'Fiber optic': {'0': 0.35153418700169126, '1': 0.6923076923076923}, 'DSL': {'0': 0.37424498671176615, '1': 0.24816053511705685}, 'No': {'0': 0.27422082628654265, '1': 0.05953177257525084}}, 'OnlineSecurity': {'No': {'0': 0.3962309736651365, '1': 0.788628762541806}, 'Yes': {'0': 0.32954820004832086, '1': 0.15183946488294314}, 'No internet service': {'0': 0.27422082628654265, '1': 0.05953177257525084}}, 'OnlineBackup': {'No': {'0': 0.3626479826044938, '1': 0.6622073578595318}, 'Yes': {'0': 0.3631311911089635, '1': 0.2782608695652174}, 'No internet service': {'0': 0.27422082628654265, '1': 0.05953177257525084}}, 'DeviceProtection': {'No': {'0': 0.36578883788354677, '1': 0.6521739130434783}, 'No internet service': {'0': 0.27422082628654265, '1': 0.05953177257525084}, 'Yes': {'0': 0.3599903358299106, '1': 0.2882943143812709}}, 'TechSupport': {'No': {'0': 0.3899492631070307, '1': 0.7759197324414716}, 'No internet service': {'0': 0.27422082628654265, '1': 0.05953177257525084}, 'Yes': {'0': 0.3358299106064267, '1': 0.1645484949832776}}, 'StreamingTV': {'Yes': {'0': 0.369896110171539, '1': 0.4387959866220736}, 'No': {'0': 0.35588306354191834, '1': 0.5016722408026756}, 'No internet service': {'0': 0.27422082628654265, '1': 0.05953177257525084}}, 'StreamingMovies': {'No': {'0': 0.35274220826286545, '1': 0.494314381270903}, 'No internet service': {'0': 0.27422082628654265, '1': 0.05953177257525084}, 'Yes': {'0': 0.37303696545059195, '1': 0.4461538461538462}}, 'Contract': {'Month-to-month': {'0': 0.43633727953611984, '1': 0.8882943143812709}, 'Two year': {'0': 0.3150519449142305, '1': 0.0274247491638796}, 'One year': {'0': 0.24861077554964967, '1': 0.08428093645484949}}, 'PaperlessBilling': {'Yes': {'0': 0.5433679632761537, '1': 0.7451505016722408}, 'No': {'0': 0.45663203672384634, '1': 0.2548494983277592}}, 'PaymentMethod': {'Electronic check': {'0': 0.2512684223242329, '1': 0.579933110367893}, 'Credit card (automatic)': {'0': 0.24136264798260448, '1': 0.12173913043478261}, 'Mailed check': {'0': 0.2577917371345736, '1': 0.16321070234113713}, 'Bank transfer (automatic)': {'0': 0.24957719255858904, '1': 0.1351170568561873}}}\n"
          ]
        }
      ]
    },
    {
      "cell_type": "markdown",
      "metadata": {
        "id": "0bXzWCqMkX6b"
      },
      "source": [
        "**In this part we will predict the probabilities**"
      ]
    },
    {
      "cell_type": "code",
      "metadata": {
        "id": "5tda27uUkVsu",
        "colab": {
          "base_uri": "https://localhost:8080/"
        },
        "outputId": "9619a9cd-1202-44c2-eb8d-1973468cf120"
      },
      "source": [
        "predict_result = []\n",
        "def predict(feature):\n",
        "  p_0 = P_0\n",
        "  p_1 = P_1\n",
        "  # print(feature.index)\n",
        "  i = 0\n",
        "  for a in feature:\n",
        "    # print(a)\n",
        "    p_0 *= probability[feature.index[i]][a]['0']\n",
        "    p_1 *= probability[feature.index[i]][a]['1']\n",
        "    i += 1\n",
        "  probability_no = p_0/(p_0 + p_1)\n",
        "  probability_yes = p_1/(p_0 + p_1)\n",
        "  # print(probability_no + probability_yes)\n",
        "\n",
        "  if probability_no > probability_yes:\n",
        "    predict_result.append(0)\n",
        "  else:\n",
        "    predict_result.append(1)\n",
        "\n",
        "  return predict_result\n",
        "\n",
        "for a in test_x.iterrows():\n",
        "  predict_result = predict(a[1])\n",
        "  # print(a[1].index)\n",
        "print(predict_result)\n",
        "# print(predict_result.count(1))"
      ],
      "execution_count": null,
      "outputs": [
        {
          "output_type": "stream",
          "name": "stdout",
          "text": [
            "[0, 1, 1, 0, 1, 1, 1, 0, 0, 0, 0, 0, 0, 0, 0, 1, 0, 1, 1, 0, 0, 0, 0, 0, 0, 1, 1, 0, 1, 0, 0, 0, 1, 0, 0, 1, 1, 0, 0, 1, 1, 0, 0, 1, 1, 0, 0, 1, 1, 0, 1, 1, 1, 1, 1, 1, 1, 1, 0, 0, 0, 1, 0, 0, 0, 0, 0, 0, 0, 1, 0, 0, 0, 0, 1, 1, 1, 0, 1, 1, 1, 0, 1, 0, 1, 0, 0, 1, 0, 1, 1, 0, 1, 0, 0, 0, 1, 0, 0, 1, 1, 0, 0, 0, 1, 0, 1, 1, 0, 1, 1, 1, 1, 0, 0, 0, 1, 1, 1, 1, 0, 1, 0, 1, 1, 1, 1, 1, 1, 0, 1, 0, 0, 0, 1, 0, 1, 0, 0, 1, 0, 1, 1, 0, 0, 0, 1, 0, 1, 0, 0, 1, 0, 0, 0, 1, 0, 1, 1, 1, 0, 1, 0, 0, 1, 0, 1, 1, 0, 0, 0, 1, 1, 1, 0, 0, 1, 1, 1, 0, 0, 0, 0, 0, 1, 1, 1, 0, 0, 1, 1, 0, 0, 0, 1, 0, 0, 0, 0, 1, 1, 0, 1, 0, 0, 1, 1, 0, 0, 0, 1, 0, 0, 0, 1, 0, 0, 1, 0, 1, 1, 0, 1, 1, 0, 1, 0, 1, 1, 0, 0, 0, 0, 1, 0, 1, 1, 1, 1, 0, 0, 1, 1, 1, 0, 0, 0, 0, 0, 1, 1, 0, 0, 0, 1, 1, 1, 0, 1, 1, 1, 0, 0, 0, 0, 0, 1, 1, 0, 0, 0, 0, 1, 0, 1, 1, 0, 0, 0, 1, 1, 0, 1, 1, 1, 1, 0, 1, 0, 1, 1, 0, 1, 0, 0, 0, 0, 0, 1, 0, 0, 0, 0, 1, 1, 0, 1, 0, 1, 0, 0, 1, 0, 1, 1, 0, 1, 0, 1, 0, 1, 0, 0, 1, 1, 1, 1, 0, 0, 1, 0, 0, 1, 0, 0, 0, 1, 1, 0, 1, 1, 0, 1, 0, 1, 0, 0, 1, 0, 0, 1, 1, 1, 1, 1, 1, 0, 0, 1, 1, 0, 0, 1, 0, 0, 1, 1, 1, 1, 0, 0, 0, 0, 0, 0, 1, 0, 0, 1, 1, 0, 0, 0, 0, 0, 0, 1, 0, 1, 0, 1, 0, 0, 1, 1, 1, 1, 1, 1, 1, 1, 0, 1, 0, 1, 0, 0, 0, 0, 0, 1, 0, 1, 1, 1, 1, 0, 0, 0, 1, 0, 1, 0, 0, 0, 0, 0, 0, 1, 0, 0, 0, 0, 0, 1, 0, 0, 1, 1, 1, 0, 0, 0, 0, 0, 1, 1, 1, 1, 1, 0, 1, 0, 1, 0, 0, 0, 0, 1, 0, 0, 0, 0, 0, 1, 1, 0, 0, 1, 1, 1, 0, 0, 0, 0, 0, 1, 0, 0, 0, 1, 0, 1, 1, 0, 1, 1, 0, 0, 0, 1, 1, 0, 0, 0, 0, 0, 1, 1, 0, 0, 0, 0, 1, 1, 0, 1, 1, 0, 1, 1, 0, 1, 1, 0, 1, 0, 1, 0, 0, 0, 0, 1, 0, 0, 1, 1, 0, 0, 1, 0, 1, 0, 0, 1, 1, 0, 1, 1, 1, 1, 0, 1, 0, 1, 1, 0, 1, 1, 1, 1, 0, 0, 0, 1, 0, 1, 0, 0, 1, 0, 0, 1, 1, 0, 1, 1, 0, 0, 0, 1, 1, 0, 1, 1, 0, 0, 0, 1, 0, 0, 0, 0, 0, 0, 1, 0, 1, 1, 0, 0, 0, 0, 1, 0, 1, 1, 0, 0, 0, 0, 1, 0, 0, 0, 0, 0, 0, 0, 1, 0, 1, 0, 1, 1, 0, 1, 1, 1, 0, 1, 1, 0, 1, 1, 0, 0, 0, 0, 0, 1, 0, 0, 0, 0, 1, 1, 0, 0, 0, 0, 0, 0, 0, 0, 0, 1, 0, 0, 0, 1, 0, 0, 1, 0, 0, 0, 0, 0, 1, 1, 0, 1, 0, 1, 0, 1, 1, 1, 0, 1, 0, 0, 1, 1, 0, 0, 0, 0, 0, 1, 0, 1, 0, 0, 0, 1, 0, 1, 0, 0, 1, 0, 0, 0, 1, 0, 1, 1, 0, 0, 1, 1, 0, 1, 0, 0, 0, 0, 1, 1, 0, 0, 0, 1, 0, 0, 0, 1, 0, 0, 0, 0, 1, 0, 0, 1, 0, 1, 1, 0, 0, 1, 0, 1, 0, 0, 0, 0, 1, 0, 0, 0, 1, 1, 1, 1, 1, 1, 0, 0, 0, 1, 1, 0, 1, 0, 1, 0, 1, 1, 0, 1, 0, 0, 1, 0, 0, 0, 0, 0, 1, 0, 0, 1, 1, 1, 0, 0, 1, 1, 0, 0, 0, 0, 0, 0, 0, 0, 0, 1, 0, 0, 1, 0, 0, 0, 1, 1, 0, 0, 1, 1, 0, 1, 0, 1, 0, 0, 0, 1, 0, 1, 0, 0, 1, 0, 0, 0, 1, 0, 0, 1, 1, 0, 0, 0, 0, 0, 0, 1, 0, 1, 0, 0, 0, 1, 1, 1, 1, 0, 0, 1, 1, 1, 1, 1, 1, 1, 0, 0, 1, 1, 1, 0, 0, 1, 0, 1, 0, 1, 0, 0, 1, 0, 0, 1, 1, 1, 0, 0, 1, 0, 0, 0, 0, 1, 0, 0, 1, 1, 1, 0, 0, 0, 0, 1, 1, 1, 1, 0, 1, 1, 0, 1, 0, 1, 0, 1, 0, 0, 1, 1, 0, 1, 0, 1, 0, 1, 0, 1, 1, 0, 1, 1, 0, 1, 1, 0, 1, 0, 0, 0, 0, 0, 0, 1, 1, 0, 0, 0, 1, 0, 1, 1, 0, 0, 1, 0, 0, 0, 0, 1, 1, 1, 1, 0, 0, 0, 1, 1, 0, 1, 0, 0, 0, 0, 0, 1, 1, 0, 0, 0, 0, 1, 1, 0, 1, 1, 1, 1, 1, 0, 1, 0, 0, 1, 0, 0, 1, 1, 1, 0, 0, 1, 1, 0, 1, 0, 0, 0, 0, 0, 1, 1, 0, 1, 0, 1, 1, 1, 1, 1, 1, 0, 0, 0, 0, 0, 0, 1, 1, 1, 1, 1, 0, 0, 0, 1, 0, 0, 0, 0, 0, 1, 1, 0, 0, 1, 1, 0, 1, 0, 0, 0, 1, 1, 0, 0, 0, 0, 0, 0, 0, 1, 1, 0, 0, 0, 0, 1, 1, 1, 0, 1, 0, 1, 0, 1, 0, 0, 0, 0, 0, 0, 0, 0, 0, 0, 1, 0, 1, 1, 0, 0, 1, 0, 1, 1, 1, 1, 1, 1, 1, 1, 0, 0, 0, 0, 0, 1, 1, 0, 1, 0, 1, 1, 0, 0, 0, 1, 1, 0, 0, 1, 1, 1, 1, 0, 0, 1, 0, 0, 1, 0, 0, 0, 1, 0, 0, 1, 0, 0, 1, 1, 0, 0, 1, 1, 1, 0, 1, 0, 0, 1, 0, 0, 0, 1, 0, 0, 0, 0, 0, 0, 1, 1, 1, 0, 0, 0, 1, 1, 0, 1, 1, 0, 1, 0, 1, 0, 0, 0, 0, 0, 0, 1, 1, 0, 0, 0, 1, 1, 0, 1, 1, 1, 1, 0, 0, 1, 0, 0, 0, 0, 0, 0, 1, 0, 1, 1, 1, 1, 0, 0, 0, 0, 0, 1, 0, 1, 1, 1, 0, 1, 0, 1, 1, 1, 0, 0, 1, 0, 0, 1, 1, 0, 0, 1, 0, 1, 0, 1, 0, 0, 0, 1, 0, 0, 0, 0, 0, 0, 1, 0, 1, 1, 1, 0, 0, 0, 0, 1, 1, 0, 1, 0, 1, 1, 0, 1, 1, 0, 1, 1, 1, 0, 1, 1, 0, 0, 0, 0, 0, 0, 0, 0, 1, 0, 0, 0, 1, 0, 1, 1, 0, 0, 0, 1, 1, 0, 0, 0, 0, 0, 1, 0, 0, 1, 0, 1, 1, 1, 1, 1, 0, 1, 1, 1, 0, 0, 1, 0, 0, 0, 0, 0, 1, 0, 0, 1, 0, 0, 0, 1, 0, 0, 0, 0, 1, 1, 1, 0, 0, 1, 0, 1, 0, 0, 1, 1, 1, 0, 1, 0, 1, 1, 1, 1, 1, 0, 0, 0, 0, 0, 0, 1, 1, 1, 1, 1, 1, 1, 1, 0, 1, 0, 1, 0, 1, 0, 0, 1, 1, 1, 0, 0, 0, 1, 1, 0, 1, 1, 0, 0, 1, 0, 0, 0, 0, 0, 0, 1, 1, 0, 0, 1, 0, 1, 0, 0, 0, 0, 0, 0, 1, 0, 1, 1, 1, 1, 1, 1, 1, 0, 0, 0, 1, 1]\n"
          ]
        }
      ]
    },
    {
      "cell_type": "markdown",
      "metadata": {
        "id": "3ncxqAfGyPp4"
      },
      "source": [
        "**In This part we will calculate the accuracy of this algorithm**"
      ]
    },
    {
      "cell_type": "code",
      "metadata": {
        "colab": {
          "base_uri": "https://localhost:8080/"
        },
        "id": "DR4fWfrayXtM",
        "outputId": "7bc71f26-fb63-4865-97c0-3abf4f1c6f0a"
      },
      "source": [
        "test_y = list(test_y)\n",
        "count = 0\n",
        "i = 0\n",
        "for a in test_y:\n",
        "  if a == predict_result[i]:\n",
        "    count += 1\n",
        "  i += 1\n",
        "accuracy = count * 100/ len(test_y)\n",
        "print(\"The accuracy of this algorithm is:{}%\".format(accuracy))"
      ],
      "execution_count": null,
      "outputs": [
        {
          "output_type": "stream",
          "name": "stdout",
          "text": [
            "The accuracy of this algorithm is:72.53371185237758%\n"
          ]
        }
      ]
    },
    {
      "cell_type": "markdown",
      "metadata": {
        "id": "6SyZTRii3Jy3"
      },
      "source": [
        "**In this part we will calculate precission, recall and f1_score**\n",
        "\n"
      ]
    },
    {
      "cell_type": "code",
      "metadata": {
        "colab": {
          "base_uri": "https://localhost:8080/"
        },
        "id": "xdNEIxlmE3V9",
        "outputId": "917266aa-9184-40ab-f0bd-ff1a7080ec72"
      },
      "source": [
        "tp = (1, 1)\n",
        "tn = (0, 0)\n",
        "fp = (1, 0)\n",
        "fn = (0, 1)\n",
        "\n",
        "mer = list(zip(predict_result, test_y))\n",
        "true_positive = mer.count(tp)\n",
        "true_negative = mer.count(tn)\n",
        "false_positive = mer.count(fp)\n",
        "false_negative = mer.count(fn)\n",
        "\n",
        "precission = true_positive/(true_positive + false_positive)\n",
        "recall = true_positive/(true_positive + false_negative)\n",
        "f1_score = (2*precission*recall)/(precission + recall)\n",
        "\n",
        "print(\"The precission value of this algorithm is: {}\".format(precission))\n",
        "print(\"The recall value of this algorithm is: {}\".format(recall))\n",
        "print(\"F1 score of this algorithm is: {}\".format(f1_score))"
      ],
      "execution_count": null,
      "outputs": [
        {
          "output_type": "stream",
          "name": "stdout",
          "text": [
            "The precission value of this algorithm is: 0.4895330112721417\n",
            "The recall value of this algorithm is: 0.8128342245989305\n",
            "F1 score of this algorithm is: 0.6110552763819096\n"
          ]
        }
      ]
    },
    {
      "cell_type": "markdown",
      "metadata": {
        "id": "3CkmYXs2levG"
      },
      "source": [
        "# **Without Stratify**"
      ]
    },
    {
      "cell_type": "code",
      "metadata": {
        "id": "Sddac2gHmg5H"
      },
      "source": [
        "train_x, test_x, train_y, test_y = train_test_split(data_x, data_y, train_size=0.8, random_state=911)\n",
        "train_y = list(train_y)\n",
        "P_0 = train_y.count(0)/len(train_y)\n",
        "P_1 = train_y.count(1)/len(train_y)"
      ],
      "execution_count": null,
      "outputs": []
    },
    {
      "cell_type": "markdown",
      "metadata": {
        "id": "ZSnn9uDBnOIv"
      },
      "source": [
        "**In this part we have created the likelihood table and store those information in a dictionary**"
      ]
    },
    {
      "cell_type": "code",
      "metadata": {
        "colab": {
          "base_uri": "https://localhost:8080/"
        },
        "id": "q7qvBR0RnNVP",
        "outputId": "4db134b6-4006-4ae0-901c-176ac8e214a9"
      },
      "source": [
        "probability_ws = {}\n",
        "\n",
        "def fit_ws(feature , label):\n",
        "  unique_value = train_x[feature].unique()\n",
        "  merge = list(zip(train_x[feature], label))\n",
        "  if(feature not in probability_ws):\n",
        "    probability_ws[feature] = {}\n",
        "  # print(probability)\n",
        "  for a in unique_value:\n",
        "    t1 = (a, 0)\n",
        "    t2 = (a, 1)\n",
        "    value_0 = calculate_probability_ws(t1, merge)\n",
        "    value_1 = calculate_probability_ws(t2, merge)\n",
        "    if a not in probability_ws[feature]:\n",
        "      probability_ws[feature][a] = {}\n",
        "      probability_ws[feature][a]['0'] = value_0\n",
        "      probability_ws[feature][a]['1'] = value_1\n",
        "    # print(value_0)\n",
        "    # print(value_1)\n",
        "\n",
        "def calculate_probability_ws(t1, merge):\n",
        "  p_xy = merge.count(t1)\n",
        "  probability = p_xy/train_y.count(t1[1])\n",
        "  return probability\n",
        "\n",
        "for a in train_x:\n",
        "  fit_ws(a, train_y)\n",
        "print(probability_ws)"
      ],
      "execution_count": null,
      "outputs": [
        {
          "output_type": "stream",
          "name": "stdout",
          "text": [
            "{'gender': {'Female': {'0': 0.4905797101449275, '1': 0.49732262382864795}, 'Male': {'0': 0.5094202898550725, '1': 0.5026773761713521}}, 'SeniorCitizen': {0: {'0': 0.8705314009661835, '1': 0.7516733601070951}, 1: {'0': 0.1294685990338164, '1': 0.24832663989290496}}, 'Partner': {'Yes': {'0': 0.5294685990338164, '1': 0.35609103078982596}, 'No': {'0': 0.47053140096618357, '1': 0.643908969210174}}, 'Dependents': {'No': {'0': 0.658695652173913, '1': 0.8232931726907631}, 'Yes': {'0': 0.34130434782608693, '1': 0.17670682730923695}}, 'PhoneService': {'Yes': {'0': 0.9026570048309178, '1': 0.9036144578313253}, 'No': {'0': 0.09734299516908212, '1': 0.0963855421686747}}, 'MultipleLines': {'Yes': {'0': 0.4103864734299517, '1': 0.4497991967871486}, 'No': {'0': 0.49227053140096616, '1': 0.4538152610441767}, 'No phone service': {'0': 0.09734299516908212, '1': 0.0963855421686747}}, 'InternetService': {'No': {'0': 0.2746376811594203, '1': 0.060240963855421686}, 'Fiber optic': {'0': 0.34347826086956523, '1': 0.6887550200803213}, 'DSL': {'0': 0.3818840579710145, '1': 0.25100401606425704}}, 'OnlineSecurity': {'No internet service': {'0': 0.2746376811594203, '1': 0.060240963855421686}, 'No': {'0': 0.39371980676328505, '1': 0.7797858099062919}, 'Yes': {'0': 0.33164251207729467, '1': 0.15997322623828647}}, 'OnlineBackup': {'No internet service': {'0': 0.2746376811594203, '1': 0.060240963855421686}, 'No': {'0': 0.3541062801932367, '1': 0.6586345381526104}, 'Yes': {'0': 0.37125603864734297, '1': 0.28112449799196787}}, 'DeviceProtection': {'No internet service': {'0': 0.2746376811594203, '1': 0.060240963855421686}, 'No': {'0': 0.36618357487922704, '1': 0.6526104417670683}, 'Yes': {'0': 0.35917874396135263, '1': 0.28714859437751006}}, 'TechSupport': {'No internet service': {'0': 0.2746376811594203, '1': 0.060240963855421686}, 'No': {'0': 0.38454106280193234, '1': 0.7717536813922357}, 'Yes': {'0': 0.3408212560386473, '1': 0.1680053547523427}}, 'StreamingTV': {'No internet service': {'0': 0.2746376811594203, '1': 0.060240963855421686}, 'Yes': {'0': 0.3678743961352657, '1': 0.4344042838018742}, 'No': {'0': 0.357487922705314, '1': 0.5053547523427041}}, 'StreamingMovies': {'No internet service': {'0': 0.2746376811594203, '1': 0.060240963855421686}, 'No': {'0': 0.35579710144927534, '1': 0.5066934404283802}, 'Yes': {'0': 0.3695652173913043, '1': 0.4330655957161981}}, 'Contract': {'Two year': {'0': 0.31956521739130433, '1': 0.02677376171352075}, 'Month-to-month': {'0': 0.427536231884058, '1': 0.8821954484605087}, 'One year': {'0': 0.2528985507246377, '1': 0.09103078982597054}}, 'PaperlessBilling': {'No': {'0': 0.4683574879227053, '1': 0.24765729585006693}, 'Yes': {'0': 0.5316425120772947, '1': 0.7523427041499331}}, 'PaymentMethod': {'Bank transfer (automatic)': {'0': 0.24685990338164251, '1': 0.14323962516733602}, 'Mailed check': {'0': 0.2560386473429952, '1': 0.1606425702811245}, 'Electronic check': {'0': 0.25024154589371983, '1': 0.5776439089692101}, 'Credit card (automatic)': {'0': 0.24685990338164251, '1': 0.11847389558232932}}}\n"
          ]
        }
      ]
    },
    {
      "cell_type": "markdown",
      "metadata": {
        "id": "jIQZ1z6ApguP"
      },
      "source": [
        "**In this part we will predict the probabilities**"
      ]
    },
    {
      "cell_type": "code",
      "metadata": {
        "colab": {
          "base_uri": "https://localhost:8080/"
        },
        "id": "1JL0qlpYpfAi",
        "outputId": "11e6f1a7-9e5d-4de4-b063-4fa355b023dd"
      },
      "source": [
        "predict_result_ws = []\n",
        "def predict_ws(feature):\n",
        "  p_0 = P_0\n",
        "  p_1 = P_1\n",
        "  # print(feature.index)\n",
        "  i = 0\n",
        "  for a in feature:\n",
        "    # print(a)\n",
        "    p_0 *= probability_ws[feature.index[i]][a]['0']\n",
        "    p_1 *= probability_ws[feature.index[i]][a]['1']\n",
        "    i += 1\n",
        "  probability_no = p_0/(p_0 + p_1)\n",
        "  probability_yes = p_1/(p_0 + p_1)\n",
        "  # print(probability_no + probability_yes)\n",
        "\n",
        "  if probability_no > probability_yes:\n",
        "    predict_result_ws.append(0)\n",
        "  else:\n",
        "    predict_result_ws.append(1)\n",
        "\n",
        "  return predict_result_ws\n",
        "\n",
        "for a in test_x.iterrows():\n",
        "  predict_result_ws = predict_ws(a[1])\n",
        "  # print(a[1].index)\n",
        "print(predict_result_ws)\n",
        "# print(predict_result.count(1))"
      ],
      "execution_count": null,
      "outputs": [
        {
          "output_type": "stream",
          "name": "stdout",
          "text": [
            "[1, 0, 0, 1, 1, 0, 0, 0, 0, 1, 0, 1, 0, 1, 0, 1, 0, 0, 0, 1, 0, 0, 1, 1, 0, 0, 0, 0, 1, 0, 0, 0, 1, 1, 0, 1, 0, 0, 0, 0, 0, 0, 0, 1, 0, 1, 0, 1, 1, 1, 0, 0, 1, 0, 1, 0, 1, 1, 1, 1, 1, 0, 1, 0, 0, 1, 1, 1, 0, 0, 1, 1, 0, 0, 1, 1, 1, 0, 0, 0, 1, 0, 1, 1, 0, 1, 0, 1, 0, 1, 0, 0, 0, 0, 0, 0, 0, 0, 1, 1, 1, 0, 1, 1, 0, 1, 0, 0, 1, 1, 1, 1, 0, 1, 1, 0, 0, 0, 1, 0, 0, 1, 1, 0, 0, 0, 0, 1, 0, 0, 0, 1, 0, 1, 0, 1, 0, 1, 0, 1, 1, 1, 0, 1, 1, 0, 0, 0, 1, 1, 1, 1, 0, 0, 1, 0, 0, 0, 0, 0, 1, 0, 1, 1, 0, 1, 0, 1, 1, 1, 0, 0, 0, 1, 0, 0, 0, 0, 0, 0, 1, 0, 0, 0, 0, 1, 0, 0, 1, 0, 0, 0, 0, 1, 0, 0, 1, 1, 1, 1, 0, 0, 0, 0, 1, 0, 0, 0, 1, 0, 0, 0, 0, 0, 0, 1, 1, 1, 1, 0, 1, 0, 0, 0, 1, 0, 1, 1, 0, 0, 1, 0, 0, 1, 1, 0, 0, 0, 1, 1, 1, 0, 1, 1, 0, 1, 0, 0, 0, 0, 0, 1, 0, 0, 0, 1, 0, 1, 1, 1, 0, 1, 0, 1, 1, 0, 1, 0, 0, 1, 0, 0, 1, 0, 0, 0, 1, 0, 1, 1, 0, 0, 1, 0, 1, 1, 0, 0, 0, 0, 1, 0, 1, 1, 0, 1, 1, 1, 1, 0, 0, 1, 0, 1, 1, 0, 0, 0, 0, 1, 0, 0, 1, 1, 1, 1, 0, 0, 0, 1, 1, 0, 1, 1, 1, 1, 0, 0, 0, 1, 1, 1, 1, 0, 0, 0, 0, 0, 0, 0, 0, 1, 1, 0, 0, 1, 0, 0, 1, 0, 1, 1, 1, 0, 1, 0, 1, 0, 1, 1, 1, 1, 1, 1, 0, 0, 1, 1, 1, 1, 1, 0, 1, 0, 0, 1, 0, 1, 1, 0, 0, 0, 0, 0, 1, 0, 0, 1, 0, 0, 1, 0, 0, 0, 1, 0, 0, 0, 0, 0, 0, 0, 0, 1, 1, 1, 0, 0, 0, 0, 0, 1, 1, 1, 0, 0, 0, 0, 0, 0, 0, 0, 0, 0, 0, 0, 0, 1, 0, 1, 1, 0, 1, 0, 0, 1, 1, 1, 1, 0, 1, 0, 0, 1, 1, 1, 0, 1, 0, 1, 0, 1, 0, 0, 0, 0, 1, 1, 1, 1, 0, 0, 1, 1, 0, 1, 1, 1, 0, 1, 0, 0, 1, 1, 1, 1, 1, 0, 1, 1, 1, 0, 0, 0, 0, 1, 1, 0, 0, 0, 0, 1, 1, 0, 1, 0, 1, 0, 0, 0, 0, 0, 0, 0, 1, 1, 0, 1, 1, 1, 0, 0, 0, 0, 0, 0, 1, 0, 1, 1, 0, 0, 1, 0, 0, 0, 1, 1, 1, 1, 0, 1, 0, 1, 1, 0, 1, 1, 0, 1, 0, 1, 0, 0, 1, 1, 0, 0, 0, 1, 1, 1, 0, 0, 1, 1, 1, 0, 0, 1, 0, 1, 0, 0, 1, 1, 0, 0, 1, 0, 0, 1, 1, 1, 1, 0, 1, 1, 0, 0, 0, 1, 0, 0, 1, 1, 0, 0, 1, 1, 1, 0, 0, 1, 1, 0, 0, 0, 0, 1, 0, 0, 1, 0, 1, 0, 0, 0, 0, 1, 0, 0, 1, 1, 1, 0, 1, 0, 1, 0, 0, 1, 0, 1, 1, 1, 0, 1, 0, 1, 0, 0, 0, 1, 1, 1, 1, 1, 0, 0, 0, 0, 1, 0, 0, 1, 1, 1, 0, 1, 1, 0, 1, 1, 0, 0, 0, 0, 1, 0, 0, 0, 0, 0, 1, 0, 0, 0, 1, 0, 1, 0, 1, 0, 0, 0, 0, 1, 0, 0, 0, 0, 1, 0, 1, 0, 1, 1, 0, 0, 1, 1, 1, 1, 1, 0, 1, 1, 1, 1, 0, 0, 1, 0, 1, 0, 1, 0, 1, 1, 0, 1, 0, 0, 1, 0, 0, 0, 0, 0, 1, 1, 0, 1, 1, 1, 0, 1, 0, 1, 1, 1, 1, 1, 0, 1, 1, 1, 1, 0, 0, 1, 1, 0, 1, 1, 0, 1, 0, 1, 1, 1, 0, 0, 1, 1, 1, 0, 0, 1, 0, 0, 0, 0, 1, 0, 1, 0, 1, 1, 0, 0, 0, 0, 1, 0, 0, 0, 0, 0, 0, 1, 0, 1, 0, 0, 1, 1, 1, 1, 1, 1, 0, 0, 0, 1, 1, 1, 1, 0, 0, 1, 0, 1, 0, 0, 1, 1, 1, 1, 0, 1, 1, 1, 1, 1, 0, 1, 0, 0, 1, 0, 1, 1, 1, 0, 0, 1, 1, 1, 0, 0, 1, 1, 1, 0, 1, 0, 0, 0, 0, 0, 0, 0, 0, 1, 0, 1, 1, 0, 0, 1, 0, 0, 1, 0, 1, 0, 1, 1, 0, 1, 0, 0, 1, 1, 0, 0, 0, 1, 1, 0, 1, 0, 0, 1, 0, 0, 0, 1, 1, 0, 0, 1, 0, 0, 1, 0, 0, 1, 0, 1, 1, 1, 1, 1, 0, 0, 0, 0, 0, 1, 0, 0, 1, 0, 0, 1, 0, 0, 0, 1, 0, 0, 0, 0, 1, 0, 0, 0, 0, 0, 1, 0, 1, 1, 0, 0, 1, 0, 0, 0, 0, 0, 0, 0, 0, 1, 1, 1, 1, 0, 0, 0, 0, 0, 0, 0, 1, 1, 0, 1, 1, 1, 1, 0, 0, 1, 1, 0, 0, 0, 0, 0, 0, 0, 1, 1, 1, 0, 0, 1, 0, 1, 0, 0, 0, 0, 0, 1, 1, 0, 1, 0, 0, 0, 1, 0, 1, 1, 1, 0, 1, 1, 0, 0, 0, 0, 1, 1, 1, 1, 1, 1, 0, 0, 0, 1, 1, 0, 1, 0, 1, 0, 1, 0, 1, 1, 0, 0, 0, 0, 0, 1, 0, 1, 1, 0, 0, 0, 1, 1, 0, 1, 1, 0, 0, 0, 0, 0, 1, 1, 1, 1, 0, 0, 0, 0, 0, 1, 0, 1, 1, 0, 0, 0, 1, 1, 1, 1, 1, 1, 0, 1, 1, 1, 1, 1, 0, 0, 1, 0, 1, 1, 1, 0, 1, 1, 0, 1, 0, 0, 1, 0, 0, 0, 0, 0, 1, 0, 0, 1, 1, 0, 0, 0, 1, 1, 0, 1, 0, 0, 1, 1, 0, 0, 0, 1, 0, 0, 1, 0, 0, 1, 1, 0, 1, 1, 1, 0, 1, 1, 0, 1, 0, 1, 1, 1, 1, 1, 1, 1, 0, 0, 0, 1, 0, 0, 1, 0, 0, 0, 1, 0, 0, 1, 0, 0, 0, 1, 0, 0, 0, 1, 0, 1, 1, 1, 0, 1, 0, 0, 1, 1, 0, 0, 1, 0, 1, 0, 0, 0, 0, 0, 1, 0, 1, 0, 0, 1, 0, 1, 1, 1, 0, 1, 1, 1, 1, 0, 0, 1, 0, 1, 0, 1, 0, 1, 0, 1, 0, 0, 0, 0, 0, 0, 1, 1, 0, 1, 1, 0, 0, 1, 1, 1, 1, 1, 0, 1, 1, 0, 1, 1, 0, 1, 1, 0, 0, 1, 1, 0, 0, 1, 0, 1, 0, 1, 1, 1, 0, 0, 1, 1, 1, 0, 0, 1, 0, 1, 1, 1, 0, 1, 0, 0, 0, 1, 0, 0, 0, 0, 1, 0, 0, 0, 0, 0, 1, 0, 1, 0, 0, 0, 0, 0, 1, 0, 1, 1, 0, 0, 1, 1, 0, 0, 0, 1, 0, 1, 0, 1, 0, 1, 1, 0, 0, 1, 0, 0, 0, 0, 0, 1, 0, 1, 0, 1, 1, 1, 0, 1, 1, 1, 0, 0, 1, 0, 0, 0, 1, 1, 1, 0, 1, 1, 1, 1, 0, 0, 0, 0, 0, 1, 0, 0, 1, 1, 0, 0, 1, 1, 1, 1, 0, 0, 1, 1, 1, 0, 1, 1, 0, 1, 0, 1, 0, 0, 1, 1, 0, 0, 1, 1, 1, 0, 1, 0, 1, 1, 1, 0, 0, 0, 1, 1, 0, 1, 0, 1, 0, 1, 1, 0, 0, 1, 1, 0, 1, 0, 1, 1, 0, 0, 1, 1, 1, 1, 0, 0, 0, 0, 0, 1, 0, 0, 1, 1, 0]\n"
          ]
        }
      ]
    },
    {
      "cell_type": "markdown",
      "metadata": {
        "id": "_cA8XNDMqHLs"
      },
      "source": [
        "**In this part we will calculate accuracy,precission, recall and f1_score**"
      ]
    },
    {
      "cell_type": "code",
      "metadata": {
        "colab": {
          "base_uri": "https://localhost:8080/"
        },
        "id": "Puan9wZDqeB2",
        "outputId": "c917cb02-bf5f-4ab5-bdaa-7533e08a0f8e"
      },
      "source": [
        "test_y = list(test_y)\n",
        "count = 0\n",
        "i = 0\n",
        "for a in test_y:\n",
        "  if a == predict_result_ws[i]:\n",
        "    count += 1\n",
        "  i += 1\n",
        "accuracy = count * 100/ len(test_y)\n",
        "print(\"The accuracy of this algorithm is:{}%\".format(accuracy))\n",
        "\n",
        "mer = list(zip(predict_result_ws, test_y))\n",
        "true_positive = mer.count(tp)\n",
        "true_negative = mer.count(tn)\n",
        "false_positive = mer.count(fp)\n",
        "false_negative = mer.count(fn)\n",
        "\n",
        "precission = true_positive/(true_positive + false_positive)\n",
        "recall = true_positive/(true_positive + false_negative)\n",
        "f1_score = (2*precission*recall)/(precission + recall)\n",
        "\n",
        "print(\"The precission value of this algorithm is: {}\".format(precission))\n",
        "print(\"The recall value of this algorithm is: {}\".format(recall))\n",
        "print(\"F1 score of this algorithm is: {}\".format(f1_score))"
      ],
      "execution_count": null,
      "outputs": [
        {
          "output_type": "stream",
          "name": "stdout",
          "text": [
            "The accuracy of this algorithm is:70.75940383250533%\n",
            "The precission value of this algorithm is: 0.4715821812596006\n",
            "The recall value of this algorithm is: 0.8186666666666667\n",
            "F1 score of this algorithm is: 0.5984405458089668\n"
          ]
        }
      ]
    }
  ]
}